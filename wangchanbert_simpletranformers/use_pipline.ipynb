{
 "cells": [
  {
   "cell_type": "code",
   "execution_count": 16,
   "metadata": {},
   "outputs": [],
   "source": [
    "from transformers import AutoTokenizer, AutoModelForTokenClassification, TokenClassificationPipeline\n",
    "from pythainlp.tokenize import word_tokenize\n",
    "\n",
    "model_path = 'checkpoint-epoch-50'\n",
    "\n",
    "tokenizer = AutoTokenizer.from_pretrained(model_path,  model_max_length=512)\n",
    "model = AutoModelForTokenClassification.from_pretrained(model_path)\n",
    "pipe = TokenClassificationPipeline(model=model, tokenizer=tokenizer)\n"
   ]
  },
  {
   "cell_type": "code",
   "execution_count": 17,
   "metadata": {},
   "outputs": [],
   "source": [
    "def predict(text):\n",
    "    # word tokenize\n",
    "    text_token = word_tokenize(text)\n",
    "    text_token = ' '.join(text_token)\n",
    "    prediction = pipe(text_token, grouped_entities=True, ignore_labels=[])\n",
    "    # covert predict to html tag\n",
    "    text_pred = \"\"\n",
    "    for dict_pred in prediction:\n",
    "        open_tag = f\"<{dict_pred['entity_group'].lower()}>\"\n",
    "        close_tag = f\"</{dict_pred['entity_group'].lower()}>\"\n",
    "        group_word = dict_pred['word']\n",
    "\n",
    "        if group_word.strip() == \"\":\n",
    "            text_pred += group_word\n",
    "        elif open_tag == \"<o>\":\n",
    "            text_pred += ''.join(group_word.split(\" \"))\n",
    "        else:\n",
    "            group_word = ''.join(group_word.split(\" \"))\n",
    "            text_pred += open_tag + group_word + close_tag\n",
    "    return text_pred"
   ]
  },
  {
   "cell_type": "code",
   "execution_count": 18,
   "metadata": {},
   "outputs": [
    {
     "data": {
      "text/plain": [
       "'<claim>ปกติถ้าสีข้าวเปลือกเป็น</claim>ข้าวขาวโรงสี<premist>จะได้กําไรจากByproductเอาไปขายต่อได้คือแกลบรําปลายข้าว</premist>แต่ถ้าสีข้าวปลือกเป็นข้าวกล้องโรงสีจะเหลือByproductแค่แกลบอย่าง<claim>เดียวทําให้ข้าวกล้องแพงกว่าข้างขาว</claim><premist>เพราะโรงสีต้องบวกกําไรที่เคยได้จากByproductของข้าวขาวเพิ่มไปในราคาข้าวกล้อง</premist>'"
      ]
     },
     "execution_count": 18,
     "metadata": {},
     "output_type": "execute_result"
    }
   ],
   "source": [
    "\n",
    "text = '''ปกติถ้าสีข้าวเปลือกเป็นข้าวขาว โรงสีจะได้กำไรจาก Byproduct เอาไปขายต่อได้คือ แกลบ รำ ปลายข้าว\n",
    "แต่ถ้าสีข้าวปลือกเป็นข้าวกล้อง โรงสีจะเหลือ Byproduct แค่ แกลบ อย่างเดียว\n",
    "ทำให้ข้าวกล้องแพงกว่าข้างขาวเพราะโรงสีต้องบวกกำไรที่เคยได้จาก Byproduct ของข้าวขาวเพิ่มไปในราคาข้าวกล้อง'''\n",
    "\n",
    "predict(text)"
   ]
  }
 ],
 "metadata": {
  "interpreter": {
   "hash": "018e0a3ac4678c6eee4f5b6012f6866bd583f46fe819b31cdc8524b9233bdcf3"
  },
  "kernelspec": {
   "display_name": "Python 3.8.13 ('wangchan')",
   "language": "python",
   "name": "python3"
  },
  "language_info": {
   "codemirror_mode": {
    "name": "ipython",
    "version": 3
   },
   "file_extension": ".py",
   "mimetype": "text/x-python",
   "name": "python",
   "nbconvert_exporter": "python",
   "pygments_lexer": "ipython3",
   "version": "3.8.13"
  },
  "orig_nbformat": 4
 },
 "nbformat": 4,
 "nbformat_minor": 2
}
