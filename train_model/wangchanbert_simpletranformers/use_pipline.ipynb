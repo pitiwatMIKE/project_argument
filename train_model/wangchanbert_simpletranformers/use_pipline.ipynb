{
 "cells": [
  {
   "cell_type": "code",
   "execution_count": 1,
   "metadata": {},
   "outputs": [
    {
     "name": "stderr",
     "output_type": "stream",
     "text": [
      "2022-04-21 14:30:55.487912: W tensorflow/stream_executor/platform/default/dso_loader.cc:64] Could not load dynamic library 'libcudart.so.11.0'; dlerror: libcudart.so.11.0: cannot open shared object file: No such file or directory\n",
      "2022-04-21 14:30:55.487948: I tensorflow/stream_executor/cuda/cudart_stub.cc:29] Ignore above cudart dlerror if you do not have a GPU set up on your machine.\n"
     ]
    }
   ],
   "source": [
    "from transformers import AutoTokenizer, AutoModelForTokenClassification, TokenClassificationPipeline\n",
    "from pythainlp.tokenize import word_tokenize\n",
    "\n",
    "model_path = 'pitiwat/argument_wangchanberta2'\n",
    "\n",
    "tokenizer = AutoTokenizer.from_pretrained(model_path,  model_max_length=512)\n",
    "model = AutoModelForTokenClassification.from_pretrained(model_path)\n",
    "pipe = TokenClassificationPipeline(model=model, tokenizer=tokenizer)\n"
   ]
  },
  {
   "cell_type": "code",
   "execution_count": 2,
   "metadata": {},
   "outputs": [],
   "source": [
    "def predict(text):\n",
    "    # word tokenize\n",
    "    text_token = word_tokenize(text)\n",
    "    text_token = ' '.join(text_token)\n",
    "    prediction = pipe(text_token, grouped_entities=True, ignore_labels=[])\n",
    "    # covert predict to html tag\n",
    "    text_pred = \"\"\n",
    "    for dict_pred in prediction:\n",
    "        open_tag = f\"<{dict_pred['entity_group'].lower()}>\"\n",
    "        close_tag = f\"</{dict_pred['entity_group'].lower()}>\"\n",
    "        group_word = dict_pred['word']\n",
    "\n",
    "        if group_word.strip() == \"\":\n",
    "            text_pred += group_word\n",
    "        elif open_tag == \"<o>\":\n",
    "            text_pred += ''.join(group_word.split(\" \"))\n",
    "        else:\n",
    "            group_word = ''.join(group_word.split(\" \"))\n",
    "            text_pred += open_tag + group_word + close_tag\n",
    "    return text_pred"
   ]
  },
  {
   "cell_type": "code",
   "execution_count": 3,
   "metadata": {},
   "outputs": [
    {
     "name": "stderr",
     "output_type": "stream",
     "text": [
      "/home/mike/project/env_project_argument/lib/python3.8/site-packages/transformers/pipelines/token_classification.py:135: UserWarning: `grouped_entities` is deprecated and will be removed in version v5.0.0, defaulted to `aggregation_strategy=\"AggregationStrategy.SIMPLE\"` instead.\n",
      "  warnings.warn(\n"
     ]
    },
    {
     "data": {
      "text/plain": [
       "'<claim>ปกติถ้าสีข้าวเปลือกเป็น</claim>ข้าวขาวโรงสี<premise>จะได้กําไรจากByproductเอาไปขายต่อได้คือแกลบรําปลายข้าว</premise>แต่ถ้าสีข้าวปลือกเป็นข้าวกล้องโรงสีจะเหลือByproductแค่แกลบอย่าง<claim>เดียวทําให้ข้าวกล้องแพงกว่าข้างขาว</claim><premise>เพราะโรงสีต้องบวกกําไรที่เคยได้จากByproductของข้าวขาวเพิ่มไปในราคาข้าวกล้อง</premise>'"
      ]
     },
     "execution_count": 3,
     "metadata": {},
     "output_type": "execute_result"
    }
   ],
   "source": [
    "\n",
    "text = '''ปกติถ้าสีข้าวเปลือกเป็นข้าวขาว โรงสีจะได้กำไรจาก Byproduct เอาไปขายต่อได้คือ แกลบ รำ ปลายข้าว\n",
    "แต่ถ้าสีข้าวปลือกเป็นข้าวกล้อง โรงสีจะเหลือ Byproduct แค่ แกลบ อย่างเดียว\n",
    "ทำให้ข้าวกล้องแพงกว่าข้างขาวเพราะโรงสีต้องบวกกำไรที่เคยได้จาก Byproduct ของข้าวขาวเพิ่มไปในราคาข้าวกล้อง'''\n",
    "\n",
    "predict(text)"
   ]
  }
 ],
 "metadata": {
  "interpreter": {
   "hash": "018e0a3ac4678c6eee4f5b6012f6866bd583f46fe819b31cdc8524b9233bdcf3"
  },
  "kernelspec": {
   "display_name": "Python 3.8.13 ('wangchan')",
   "language": "python",
   "name": "python3"
  },
  "language_info": {
   "codemirror_mode": {
    "name": "ipython",
    "version": 3
   },
   "file_extension": ".py",
   "mimetype": "text/x-python",
   "name": "python",
   "nbconvert_exporter": "python",
   "pygments_lexer": "ipython3",
   "version": "3.8.10"
  },
  "orig_nbformat": 4
 },
 "nbformat": 4,
 "nbformat_minor": 2
}
